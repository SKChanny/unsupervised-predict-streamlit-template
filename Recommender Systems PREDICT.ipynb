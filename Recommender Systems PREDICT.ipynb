{
 "cells": [
  {
   "cell_type": "markdown",
   "id": "7383fb59",
   "metadata": {},
   "source": [
    "### UNSUPERVISED LEARNING"
   ]
  },
  {
   "cell_type": "markdown",
   "id": "2515718f",
   "metadata": {},
   "source": [
    "EDSA Movie Recommendation Wilderness Flex your Unsupervised Learning skills to generate movie recommendations from the wilderness of data available!\n",
    "\n",
    "### algorithms can help viewers find great titles from tens of thousands of options.\n",
    "EDSA is challenging you to construct a recommendation algorithm based on content or collaborative filtering, capable of accurately predicting how a user will rate a movie they have not yet viewed, based on their historical preferences.\n",
    "\n",
    "Collaborative filtering is a recommendation system that creates a prediction based on a user’s previous behaviors.\n",
    "\n",
    "### Collaborative filtering (CF) and its modifications is one of the most commonly used recommendation algorithms.\n",
    "To understand the recommender system better, it is a must to know that there are three approaches to it being:\n",
    "\n",
    "Content-based filtering, Collaborative filtering, Hybrid model"
   ]
  },
  {
   "cell_type": "code",
   "execution_count": null,
   "id": "b8f9d980",
   "metadata": {},
   "outputs": [],
   "source": []
  },
  {
   "cell_type": "code",
   "execution_count": null,
   "id": "54a41329",
   "metadata": {},
   "outputs": [],
   "source": []
  },
  {
   "cell_type": "code",
   "execution_count": 1,
   "id": "146c9229",
   "metadata": {},
   "outputs": [
    {
     "name": "stdout",
     "output_type": "stream",
     "text": [
      "Requirement already satisfied: comet_ml in c:\\users\\hifi corp thavhani\\documents\\software\\anaconda\\anacon\\lib\\site-packages (3.24.1)\n",
      "Requirement already satisfied: websocket-client>=0.55.0 in c:\\users\\hifi corp thavhani\\documents\\software\\anaconda\\anacon\\lib\\site-packages (from comet_ml) (1.2.3)\n",
      "Requirement already satisfied: everett[ini]>=1.0.1 in c:\\users\\hifi corp thavhani\\documents\\software\\anaconda\\anacon\\lib\\site-packages (from comet_ml) (3.0.0)\n",
      "Requirement already satisfied: wrapt>=1.11.2 in c:\\users\\hifi corp thavhani\\documents\\software\\anaconda\\anacon\\lib\\site-packages (from comet_ml) (1.12.1)\n",
      "Requirement already satisfied: requests-toolbelt>=0.8.0 in c:\\users\\hifi corp thavhani\\documents\\software\\anaconda\\anacon\\lib\\site-packages (from comet_ml) (0.9.1)\n",
      "Requirement already satisfied: wurlitzer>=1.0.2 in c:\\users\\hifi corp thavhani\\documents\\software\\anaconda\\anacon\\lib\\site-packages (from comet_ml) (3.0.2)\n",
      "Requirement already satisfied: nvidia-ml-py3>=7.352.0 in c:\\users\\hifi corp thavhani\\documents\\software\\anaconda\\anacon\\lib\\site-packages (from comet_ml) (7.352.0)\n",
      "Requirement already satisfied: semantic-version>=2.8.0 in c:\\users\\hifi corp thavhani\\documents\\software\\anaconda\\anacon\\lib\\site-packages (from comet_ml) (2.8.5)\n",
      "Requirement already satisfied: dulwich>=0.20.6 in c:\\users\\hifi corp thavhani\\documents\\software\\anaconda\\anacon\\lib\\site-packages (from comet_ml) (0.20.30)\n",
      "Requirement already satisfied: requests>=2.18.4 in c:\\users\\hifi corp thavhani\\documents\\software\\anaconda\\anacon\\lib\\site-packages (from comet_ml) (2.26.0)\n",
      "Requirement already satisfied: jsonschema!=3.1.0,>=2.6.0 in c:\\users\\hifi corp thavhani\\documents\\software\\anaconda\\anacon\\lib\\site-packages (from comet_ml) (3.2.0)\n",
      "Requirement already satisfied: six in c:\\users\\hifi corp thavhani\\documents\\software\\anaconda\\anacon\\lib\\site-packages (from comet_ml) (1.16.0)\n",
      "Requirement already satisfied: certifi in c:\\users\\hifi corp thavhani\\documents\\software\\anaconda\\anacon\\lib\\site-packages (from dulwich>=0.20.6->comet_ml) (2021.10.8)\n",
      "Requirement already satisfied: urllib3>=1.24.1 in c:\\users\\hifi corp thavhani\\documents\\software\\anaconda\\anacon\\lib\\site-packages (from dulwich>=0.20.6->comet_ml) (1.26.7)\n",
      "Requirement already satisfied: configobj in c:\\users\\hifi corp thavhani\\documents\\software\\anaconda\\anacon\\lib\\site-packages (from everett[ini]>=1.0.1->comet_ml) (5.0.6)\n",
      "Requirement already satisfied: attrs>=17.4.0 in c:\\users\\hifi corp thavhani\\documents\\software\\anaconda\\anacon\\lib\\site-packages (from jsonschema!=3.1.0,>=2.6.0->comet_ml) (21.2.0)\n",
      "Requirement already satisfied: pyrsistent>=0.14.0 in c:\\users\\hifi corp thavhani\\documents\\software\\anaconda\\anacon\\lib\\site-packages (from jsonschema!=3.1.0,>=2.6.0->comet_ml) (0.18.0)\n",
      "Requirement already satisfied: setuptools in c:\\users\\hifi corp thavhani\\documents\\software\\anaconda\\anacon\\lib\\site-packages (from jsonschema!=3.1.0,>=2.6.0->comet_ml) (58.0.4)\n",
      "Requirement already satisfied: charset-normalizer~=2.0.0 in c:\\users\\hifi corp thavhani\\documents\\software\\anaconda\\anacon\\lib\\site-packages (from requests>=2.18.4->comet_ml) (2.0.4)\n",
      "Requirement already satisfied: idna<4,>=2.5 in c:\\users\\hifi corp thavhani\\documents\\software\\anaconda\\anacon\\lib\\site-packages (from requests>=2.18.4->comet_ml) (3.2)\n"
     ]
    },
    {
     "name": "stderr",
     "output_type": "stream",
     "text": [
      "WARNING: Ignoring invalid distribution -lrd (c:\\users\\hifi corp thavhani\\documents\\software\\anaconda\\anacon\\lib\\site-packages)\n",
      "WARNING: Ignoring invalid distribution -lrd (c:\\users\\hifi corp thavhani\\documents\\software\\anaconda\\anacon\\lib\\site-packages)\n",
      "WARNING: Ignoring invalid distribution -lrd (c:\\users\\hifi corp thavhani\\documents\\software\\anaconda\\anacon\\lib\\site-packages)\n",
      "WARNING: Ignoring invalid distribution -lrd (c:\\users\\hifi corp thavhani\\documents\\software\\anaconda\\anacon\\lib\\site-packages)\n",
      "WARNING: Ignoring invalid distribution -lrd (c:\\users\\hifi corp thavhani\\documents\\software\\anaconda\\anacon\\lib\\site-packages)\n"
     ]
    }
   ],
   "source": [
    "!pip install comet_ml"
   ]
  },
  {
   "cell_type": "code",
   "execution_count": 1,
   "id": "ca2312ea",
   "metadata": {},
   "outputs": [
    {
     "name": "stderr",
     "output_type": "stream",
     "text": [
      "COMET WARNING: As you are running in a Jupyter environment, you will need to call `experiment.end()` when finished to ensure all metrics and code are logged before exiting.\n",
      "COMET INFO: Experiment is live on comet.ml https://www.comet.ml/skchanny/recommender-systems-predict/6bdd89bcfec64f2e8068b92dc9db46a8\n",
      "\n",
      "COMET INFO: Couldn't find a Git repository in 'C:\\\\Users\\\\HIFI CORP THAVHANI\\\\Desktop\\\\EXPLORE DATA SCIENCE\\\\SPRINT\\\\UNSUPERVISED LEARNING\\\\PREDICT' nor in any parent directory. You can override where Comet is looking for a Git Patch by setting the configuration `COMET_GIT_DIRECTORY`\n"
     ]
    }
   ],
   "source": [
    "# import comet_ml at the top of your file\n",
    "from comet_ml import Experiment\n",
    "\n",
    "# Create an experiment with your api key\n",
    "experiment = Experiment(\n",
    "    api_key=\"jqo20ptaA2zzIEpvXms0ZcjVz\",\n",
    "    project_name=\"Recommender Systems PREDICT\",\n",
    "    workspace=\"skchanny\",\n",
    ")"
   ]
  },
  {
   "cell_type": "code",
   "execution_count": null,
   "id": "63ffd780",
   "metadata": {},
   "outputs": [],
   "source": [
    "!pip install numpy\n"
   ]
  },
  {
   "cell_type": "code",
   "execution_count": 4,
   "id": "6acb7791",
   "metadata": {},
   "outputs": [
    {
     "name": "stdout",
     "output_type": "stream",
     "text": [
      "Requirement already satisfied: scikit-surprise in c:\\users\\hifi corp thavhani\\documents\\software\\anaconda\\anacon\\lib\\site-packages (1.1.1)\n",
      "Requirement already satisfied: joblib>=0.11 in c:\\users\\hifi corp thavhani\\documents\\software\\anaconda\\anacon\\lib\\site-packages (from scikit-surprise) (1.1.0)\n",
      "Requirement already satisfied: numpy>=1.11.2 in c:\\users\\hifi corp thavhani\\documents\\software\\anaconda\\anacon\\lib\\site-packages (from scikit-surprise) (1.21.4)\n",
      "Requirement already satisfied: scipy>=1.0.0 in c:\\users\\hifi corp thavhani\\documents\\software\\anaconda\\anacon\\lib\\site-packages (from scikit-surprise) (1.7.1)\n",
      "Requirement already satisfied: six>=1.10.0 in c:\\users\\hifi corp thavhani\\documents\\software\\anaconda\\anacon\\lib\\site-packages (from scikit-surprise) (1.16.0)\n"
     ]
    },
    {
     "name": "stderr",
     "output_type": "stream",
     "text": [
      "WARNING: Ignoring invalid distribution -lrd (c:\\users\\hifi corp thavhani\\documents\\software\\anaconda\\anacon\\lib\\site-packages)\n",
      "WARNING: Ignoring invalid distribution -lrd (c:\\users\\hifi corp thavhani\\documents\\software\\anaconda\\anacon\\lib\\site-packages)\n",
      "WARNING: Ignoring invalid distribution -lrd (c:\\users\\hifi corp thavhani\\documents\\software\\anaconda\\anacon\\lib\\site-packages)\n",
      "WARNING: Ignoring invalid distribution -lrd (c:\\users\\hifi corp thavhani\\documents\\software\\anaconda\\anacon\\lib\\site-packages)\n",
      "WARNING: Ignoring invalid distribution -lrd (c:\\users\\hifi corp thavhani\\documents\\software\\anaconda\\anacon\\lib\\site-packages)\n"
     ]
    }
   ],
   "source": [
    "!pip install scikit-surprise"
   ]
  },
  {
   "cell_type": "code",
   "execution_count": 2,
   "id": "389363c6",
   "metadata": {},
   "outputs": [
    {
     "data": {
      "text/html": [
       "        <script type=\"text/javascript\">\n",
       "        window.PlotlyConfig = {MathJaxConfig: 'local'};\n",
       "        if (window.MathJax) {MathJax.Hub.Config({SVG: {font: \"STIX-Web\"}});}\n",
       "        if (typeof require !== 'undefined') {\n",
       "        require.undef(\"plotly\");\n",
       "        requirejs.config({\n",
       "            paths: {\n",
       "                'plotly': ['https://cdn.plot.ly/plotly-2.8.3.min']\n",
       "            }\n",
       "        });\n",
       "        require(['plotly'], function(Plotly) {\n",
       "            window._Plotly = Plotly;\n",
       "        });\n",
       "        }\n",
       "        </script>\n",
       "        "
      ]
     },
     "metadata": {},
     "output_type": "display_data"
    },
    {
     "data": {
      "text/html": [
       "        <script type=\"text/javascript\">\n",
       "        window.PlotlyConfig = {MathJaxConfig: 'local'};\n",
       "        if (window.MathJax) {MathJax.Hub.Config({SVG: {font: \"STIX-Web\"}});}\n",
       "        if (typeof require !== 'undefined') {\n",
       "        require.undef(\"plotly\");\n",
       "        requirejs.config({\n",
       "            paths: {\n",
       "                'plotly': ['https://cdn.plot.ly/plotly-2.8.3.min']\n",
       "            }\n",
       "        });\n",
       "        require(['plotly'], function(Plotly) {\n",
       "            window._Plotly = Plotly;\n",
       "        });\n",
       "        }\n",
       "        </script>\n",
       "        "
      ]
     },
     "metadata": {},
     "output_type": "display_data"
    }
   ],
   "source": [
    "import numpy as np\n",
    "import pandas as pd\n",
    "#import graphlab # converting data for collaborative filtering processing\n",
    "import cufflinks as cf\n",
    "from scipy.sparse import csr_matrix\n",
    "from sklearn.neighbors import NearestNeighbors\n",
    "from sklearn.preprocessing import StandardScaler\n",
    "from sklearn import preprocessing\n",
    "from sklearn.decomposition import PCA\n",
    "from sklearn.model_selection import train_test_split\n",
    "\n",
    "from sklearn.ensemble import RandomForestRegressor\n",
    "\n",
    "import matplotlib.pyplot as plt ## for data visusalisation\n",
    "import seaborn as sns ## for data visualisation\n",
    "%matplotlib inline\n",
    "import os ##for loading data (csv files e.t.c)\n",
    "\n",
    "import surprise\n",
    "from surprise import Dataset\n",
    "from surprise import Reader\n",
    "from surprise import SVD\n",
    "from surprise import KNNWithMeans\n",
    "\n",
    "#Entity featurization and similarity computation\n",
    "from sklearn.metrics.pairwise import cosine_similarity \n",
    "from sklearn.feature_extraction.text import TfidfVectorizer\n",
    "\n",
    "# Libraries used during sorting procedures.\n",
    "import operator # <-- Convienient item retrieval during iteration \n",
    "import heapq # <-- Efficient sorting of large lists\n",
    "\n",
    "# Imported for our sanity\n",
    "import warnings\n",
    "warnings.filterwarnings('ignore')\n",
    "\n",
    "sns.set(style='whitegrid', palette='muted',\n",
    "        rc={'figure.figsize': (15,10)})\n",
    "\n",
    "from plotly.offline import download_plotlyjs, init_notebook_mode, plot, iplot\n",
    "init_notebook_mode(connected=True)\n",
    "\n",
    "\n",
    "from IPython import display\n",
    "from IPython.display import Image\n",
    "\n",
    "# Packages for saving models\n",
    "import pickle"
   ]
  },
  {
   "cell_type": "code",
   "execution_count": 3,
   "id": "16afb348",
   "metadata": {},
   "outputs": [],
   "source": [
    "df = pd.read_csv(\"movies.csv\")# load the data\n",
    "mdb_df = pd.read_csv(\"imdb_data.csv\")\n",
    "train_df = pd.read_csv(\"train.csv\")\n",
    "tag_df = pd.read_csv(\"tags.csv\")\n",
    "link_df = pd.read_csv(\"links.csv\")\n",
    "gen_df = pd.read_csv(\"genome_scores.csv\")\n",
    "gentag_df = pd.read_csv(\"genome_tags.csv\")"
   ]
  },
  {
   "cell_type": "code",
   "execution_count": 4,
   "id": "9fbc0e27",
   "metadata": {},
   "outputs": [
    {
     "data": {
      "text/html": [
       "<div>\n",
       "<style scoped>\n",
       "    .dataframe tbody tr th:only-of-type {\n",
       "        vertical-align: middle;\n",
       "    }\n",
       "\n",
       "    .dataframe tbody tr th {\n",
       "        vertical-align: top;\n",
       "    }\n",
       "\n",
       "    .dataframe thead th {\n",
       "        text-align: right;\n",
       "    }\n",
       "</style>\n",
       "<table border=\"1\" class=\"dataframe\">\n",
       "  <thead>\n",
       "    <tr style=\"text-align: right;\">\n",
       "      <th></th>\n",
       "      <th>movieId</th>\n",
       "      <th>title</th>\n",
       "      <th>genres</th>\n",
       "    </tr>\n",
       "  </thead>\n",
       "  <tbody>\n",
       "    <tr>\n",
       "      <th>0</th>\n",
       "      <td>1</td>\n",
       "      <td>Toy Story (1995)</td>\n",
       "      <td>Adventure|Animation|Children|Comedy|Fantasy</td>\n",
       "    </tr>\n",
       "    <tr>\n",
       "      <th>1</th>\n",
       "      <td>2</td>\n",
       "      <td>Jumanji (1995)</td>\n",
       "      <td>Adventure|Children|Fantasy</td>\n",
       "    </tr>\n",
       "    <tr>\n",
       "      <th>2</th>\n",
       "      <td>3</td>\n",
       "      <td>Grumpier Old Men (1995)</td>\n",
       "      <td>Comedy|Romance</td>\n",
       "    </tr>\n",
       "    <tr>\n",
       "      <th>3</th>\n",
       "      <td>4</td>\n",
       "      <td>Waiting to Exhale (1995)</td>\n",
       "      <td>Comedy|Drama|Romance</td>\n",
       "    </tr>\n",
       "    <tr>\n",
       "      <th>4</th>\n",
       "      <td>5</td>\n",
       "      <td>Father of the Bride Part II (1995)</td>\n",
       "      <td>Comedy</td>\n",
       "    </tr>\n",
       "  </tbody>\n",
       "</table>\n",
       "</div>"
      ],
      "text/plain": [
       "   movieId                               title  \\\n",
       "0        1                    Toy Story (1995)   \n",
       "1        2                      Jumanji (1995)   \n",
       "2        3             Grumpier Old Men (1995)   \n",
       "3        4            Waiting to Exhale (1995)   \n",
       "4        5  Father of the Bride Part II (1995)   \n",
       "\n",
       "                                        genres  \n",
       "0  Adventure|Animation|Children|Comedy|Fantasy  \n",
       "1                   Adventure|Children|Fantasy  \n",
       "2                               Comedy|Romance  \n",
       "3                         Comedy|Drama|Romance  \n",
       "4                                       Comedy  "
      ]
     },
     "execution_count": 4,
     "metadata": {},
     "output_type": "execute_result"
    }
   ],
   "source": [
    "df.head()"
   ]
  },
  {
   "cell_type": "code",
   "execution_count": 5,
   "id": "52224d21",
   "metadata": {},
   "outputs": [],
   "source": [
    "df1 = df.copy()"
   ]
  },
  {
   "cell_type": "code",
   "execution_count": 6,
   "id": "64e55d03",
   "metadata": {},
   "outputs": [
    {
     "data": {
      "text/html": [
       "<div>\n",
       "<style scoped>\n",
       "    .dataframe tbody tr th:only-of-type {\n",
       "        vertical-align: middle;\n",
       "    }\n",
       "\n",
       "    .dataframe tbody tr th {\n",
       "        vertical-align: top;\n",
       "    }\n",
       "\n",
       "    .dataframe thead th {\n",
       "        text-align: right;\n",
       "    }\n",
       "</style>\n",
       "<table border=\"1\" class=\"dataframe\">\n",
       "  <thead>\n",
       "    <tr style=\"text-align: right;\">\n",
       "      <th></th>\n",
       "      <th>movieId</th>\n",
       "      <th>title_cast</th>\n",
       "      <th>director</th>\n",
       "      <th>runtime</th>\n",
       "      <th>budget</th>\n",
       "      <th>plot_keywords</th>\n",
       "    </tr>\n",
       "  </thead>\n",
       "  <tbody>\n",
       "    <tr>\n",
       "      <th>0</th>\n",
       "      <td>1</td>\n",
       "      <td>Tom Hanks|Tim Allen|Don Rickles|Jim Varney|Wal...</td>\n",
       "      <td>John Lasseter</td>\n",
       "      <td>81.0</td>\n",
       "      <td>$30,000,000</td>\n",
       "      <td>toy|rivalry|cowboy|cgi animation</td>\n",
       "    </tr>\n",
       "    <tr>\n",
       "      <th>1</th>\n",
       "      <td>2</td>\n",
       "      <td>Robin Williams|Jonathan Hyde|Kirsten Dunst|Bra...</td>\n",
       "      <td>Jonathan Hensleigh</td>\n",
       "      <td>104.0</td>\n",
       "      <td>$65,000,000</td>\n",
       "      <td>board game|adventurer|fight|game</td>\n",
       "    </tr>\n",
       "    <tr>\n",
       "      <th>2</th>\n",
       "      <td>3</td>\n",
       "      <td>Walter Matthau|Jack Lemmon|Sophia Loren|Ann-Ma...</td>\n",
       "      <td>Mark Steven Johnson</td>\n",
       "      <td>101.0</td>\n",
       "      <td>$25,000,000</td>\n",
       "      <td>boat|lake|neighbor|rivalry</td>\n",
       "    </tr>\n",
       "    <tr>\n",
       "      <th>3</th>\n",
       "      <td>4</td>\n",
       "      <td>Whitney Houston|Angela Bassett|Loretta Devine|...</td>\n",
       "      <td>Terry McMillan</td>\n",
       "      <td>124.0</td>\n",
       "      <td>$16,000,000</td>\n",
       "      <td>black american|husband wife relationship|betra...</td>\n",
       "    </tr>\n",
       "    <tr>\n",
       "      <th>4</th>\n",
       "      <td>5</td>\n",
       "      <td>Steve Martin|Diane Keaton|Martin Short|Kimberl...</td>\n",
       "      <td>Albert Hackett</td>\n",
       "      <td>106.0</td>\n",
       "      <td>$30,000,000</td>\n",
       "      <td>fatherhood|doberman|dog|mansion</td>\n",
       "    </tr>\n",
       "  </tbody>\n",
       "</table>\n",
       "</div>"
      ],
      "text/plain": [
       "   movieId                                         title_cast  \\\n",
       "0        1  Tom Hanks|Tim Allen|Don Rickles|Jim Varney|Wal...   \n",
       "1        2  Robin Williams|Jonathan Hyde|Kirsten Dunst|Bra...   \n",
       "2        3  Walter Matthau|Jack Lemmon|Sophia Loren|Ann-Ma...   \n",
       "3        4  Whitney Houston|Angela Bassett|Loretta Devine|...   \n",
       "4        5  Steve Martin|Diane Keaton|Martin Short|Kimberl...   \n",
       "\n",
       "              director  runtime       budget  \\\n",
       "0        John Lasseter     81.0  $30,000,000   \n",
       "1   Jonathan Hensleigh    104.0  $65,000,000   \n",
       "2  Mark Steven Johnson    101.0  $25,000,000   \n",
       "3       Terry McMillan    124.0  $16,000,000   \n",
       "4       Albert Hackett    106.0  $30,000,000   \n",
       "\n",
       "                                       plot_keywords  \n",
       "0                   toy|rivalry|cowboy|cgi animation  \n",
       "1                   board game|adventurer|fight|game  \n",
       "2                         boat|lake|neighbor|rivalry  \n",
       "3  black american|husband wife relationship|betra...  \n",
       "4                    fatherhood|doberman|dog|mansion  "
      ]
     },
     "execution_count": 6,
     "metadata": {},
     "output_type": "execute_result"
    }
   ],
   "source": [
    "mdb_df.head()"
   ]
  },
  {
   "cell_type": "code",
   "execution_count": 7,
   "id": "b39f670e",
   "metadata": {},
   "outputs": [],
   "source": [
    "mdb_df1 = mdb_df.copy()"
   ]
  },
  {
   "cell_type": "code",
   "execution_count": 8,
   "id": "1e2f83dc",
   "metadata": {},
   "outputs": [
    {
     "data": {
      "text/html": [
       "<div>\n",
       "<style scoped>\n",
       "    .dataframe tbody tr th:only-of-type {\n",
       "        vertical-align: middle;\n",
       "    }\n",
       "\n",
       "    .dataframe tbody tr th {\n",
       "        vertical-align: top;\n",
       "    }\n",
       "\n",
       "    .dataframe thead th {\n",
       "        text-align: right;\n",
       "    }\n",
       "</style>\n",
       "<table border=\"1\" class=\"dataframe\">\n",
       "  <thead>\n",
       "    <tr style=\"text-align: right;\">\n",
       "      <th></th>\n",
       "      <th>userId</th>\n",
       "      <th>movieId</th>\n",
       "      <th>rating</th>\n",
       "      <th>timestamp</th>\n",
       "    </tr>\n",
       "  </thead>\n",
       "  <tbody>\n",
       "    <tr>\n",
       "      <th>0</th>\n",
       "      <td>5163</td>\n",
       "      <td>57669</td>\n",
       "      <td>4.0</td>\n",
       "      <td>1518349992</td>\n",
       "    </tr>\n",
       "    <tr>\n",
       "      <th>1</th>\n",
       "      <td>106343</td>\n",
       "      <td>5</td>\n",
       "      <td>4.5</td>\n",
       "      <td>1206238739</td>\n",
       "    </tr>\n",
       "    <tr>\n",
       "      <th>2</th>\n",
       "      <td>146790</td>\n",
       "      <td>5459</td>\n",
       "      <td>5.0</td>\n",
       "      <td>1076215539</td>\n",
       "    </tr>\n",
       "    <tr>\n",
       "      <th>3</th>\n",
       "      <td>106362</td>\n",
       "      <td>32296</td>\n",
       "      <td>2.0</td>\n",
       "      <td>1423042565</td>\n",
       "    </tr>\n",
       "    <tr>\n",
       "      <th>4</th>\n",
       "      <td>9041</td>\n",
       "      <td>366</td>\n",
       "      <td>3.0</td>\n",
       "      <td>833375837</td>\n",
       "    </tr>\n",
       "  </tbody>\n",
       "</table>\n",
       "</div>"
      ],
      "text/plain": [
       "   userId  movieId  rating   timestamp\n",
       "0    5163    57669     4.0  1518349992\n",
       "1  106343        5     4.5  1206238739\n",
       "2  146790     5459     5.0  1076215539\n",
       "3  106362    32296     2.0  1423042565\n",
       "4    9041      366     3.0   833375837"
      ]
     },
     "execution_count": 8,
     "metadata": {},
     "output_type": "execute_result"
    }
   ],
   "source": [
    "train_df.head()"
   ]
  },
  {
   "cell_type": "code",
   "execution_count": 9,
   "id": "38846b9e",
   "metadata": {},
   "outputs": [],
   "source": [
    "train_df1 = train_df.copy()"
   ]
  },
  {
   "cell_type": "code",
   "execution_count": 10,
   "id": "07ba256e",
   "metadata": {},
   "outputs": [
    {
     "name": "stdout",
     "output_type": "stream",
     "text": [
      "Average rating in dataset: 3.5333951730983424\n"
     ]
    },
    {
     "data": {
      "image/png": "[encoded data removed]",
      "text/plain": [
       "<Figure size 720x360 with 1 Axes>"
      ]
     },
     "metadata": {},
     "output_type": "display_data"
    }
   ],
   "source": [
    "#Distribution of ratings\n",
    "with sns.axes_style('white'):\n",
    "    g = sns.factorplot(\"rating\", data=train_df1, aspect=2.0,kind='count')\n",
    "    g.set_ylabels(\"Total number of ratings\")\n",
    "print (f'Average rating in dataset: {np.mean(train_df1[\"rating\"])}')"
   ]
  },
  {
   "cell_type": "markdown",
   "id": "bb9480e0",
   "metadata": {},
   "source": [
    "We can see that there are more than 35000 ratings with score 4.0 and this is the rating with many users followed by 3.0 > 5.0 > 3.5 > 4.5 >2.0 > 2.5 > 1.0\n",
    "\n",
    "The average rating is 3.5"
   ]
  },
  {
   "cell_type": "code",
   "execution_count": 15,
   "id": "303d5381",
   "metadata": {},
   "outputs": [],
   "source": [
    "#Create a list of dataframes to be merged\n",
    "dfs = [df1,mdb_df1,train_df1]"
   ]
  },
  {
   "cell_type": "code",
   "execution_count": 16,
   "id": "822ad3f8",
   "metadata": {},
   "outputs": [],
   "source": [
    "from functools import reduce"
   ]
  },
  {
   "cell_type": "code",
   "execution_count": 17,
   "id": "da004826",
   "metadata": {},
   "outputs": [],
   "source": [
    "#merging the 3 dataframes on column = movieId\n",
    "df_final = reduce(lambda left,right: pd.merge(left,right,on='movieId'), dfs)"
   ]
  },
  {
   "cell_type": "code",
   "execution_count": 18,
   "id": "2b864d96",
   "metadata": {},
   "outputs": [
    {
     "data": {
      "text/html": [
       "<div>\n",
       "<style scoped>\n",
       "    .dataframe tbody tr th:only-of-type {\n",
       "        vertical-align: middle;\n",
       "    }\n",
       "\n",
       "    .dataframe tbody tr th {\n",
       "        vertical-align: top;\n",
       "    }\n",
       "\n",
       "    .dataframe thead th {\n",
       "        text-align: right;\n",
       "    }\n",
       "</style>\n",
       "<table border=\"1\" class=\"dataframe\">\n",
       "  <thead>\n",
       "    <tr style=\"text-align: right;\">\n",
       "      <th></th>\n",
       "      <th>movieId</th>\n",
       "      <th>title</th>\n",
       "      <th>genres</th>\n",
       "      <th>title_cast</th>\n",
       "      <th>director</th>\n",
       "      <th>runtime</th>\n",
       "      <th>budget</th>\n",
       "      <th>plot_keywords</th>\n",
       "      <th>userId</th>\n",
       "      <th>rating</th>\n",
       "      <th>timestamp</th>\n",
       "    </tr>\n",
       "  </thead>\n",
       "  <tbody>\n",
       "    <tr>\n",
       "      <th>0</th>\n",
       "      <td>1</td>\n",
       "      <td>Toy Story (1995)</td>\n",
       "      <td>Adventure|Animation|Children|Comedy|Fantasy</td>\n",
       "      <td>Tom Hanks|Tim Allen|Don Rickles|Jim Varney|Wal...</td>\n",
       "      <td>John Lasseter</td>\n",
       "      <td>81.0</td>\n",
       "      <td>$30,000,000</td>\n",
       "      <td>toy|rivalry|cowboy|cgi animation</td>\n",
       "      <td>158849</td>\n",
       "      <td>5.0</td>\n",
       "      <td>994716786</td>\n",
       "    </tr>\n",
       "    <tr>\n",
       "      <th>1</th>\n",
       "      <td>1</td>\n",
       "      <td>Toy Story (1995)</td>\n",
       "      <td>Adventure|Animation|Children|Comedy|Fantasy</td>\n",
       "      <td>Tom Hanks|Tim Allen|Don Rickles|Jim Varney|Wal...</td>\n",
       "      <td>John Lasseter</td>\n",
       "      <td>81.0</td>\n",
       "      <td>$30,000,000</td>\n",
       "      <td>toy|rivalry|cowboy|cgi animation</td>\n",
       "      <td>97203</td>\n",
       "      <td>5.0</td>\n",
       "      <td>942683155</td>\n",
       "    </tr>\n",
       "    <tr>\n",
       "      <th>2</th>\n",
       "      <td>1</td>\n",
       "      <td>Toy Story (1995)</td>\n",
       "      <td>Adventure|Animation|Children|Comedy|Fantasy</td>\n",
       "      <td>Tom Hanks|Tim Allen|Don Rickles|Jim Varney|Wal...</td>\n",
       "      <td>John Lasseter</td>\n",
       "      <td>81.0</td>\n",
       "      <td>$30,000,000</td>\n",
       "      <td>toy|rivalry|cowboy|cgi animation</td>\n",
       "      <td>161871</td>\n",
       "      <td>3.0</td>\n",
       "      <td>833104576</td>\n",
       "    </tr>\n",
       "    <tr>\n",
       "      <th>3</th>\n",
       "      <td>1</td>\n",
       "      <td>Toy Story (1995)</td>\n",
       "      <td>Adventure|Animation|Children|Comedy|Fantasy</td>\n",
       "      <td>Tom Hanks|Tim Allen|Don Rickles|Jim Varney|Wal...</td>\n",
       "      <td>John Lasseter</td>\n",
       "      <td>81.0</td>\n",
       "      <td>$30,000,000</td>\n",
       "      <td>toy|rivalry|cowboy|cgi animation</td>\n",
       "      <td>45117</td>\n",
       "      <td>4.0</td>\n",
       "      <td>1442256969</td>\n",
       "    </tr>\n",
       "    <tr>\n",
       "      <th>4</th>\n",
       "      <td>1</td>\n",
       "      <td>Toy Story (1995)</td>\n",
       "      <td>Adventure|Animation|Children|Comedy|Fantasy</td>\n",
       "      <td>Tom Hanks|Tim Allen|Don Rickles|Jim Varney|Wal...</td>\n",
       "      <td>John Lasseter</td>\n",
       "      <td>81.0</td>\n",
       "      <td>$30,000,000</td>\n",
       "      <td>toy|rivalry|cowboy|cgi animation</td>\n",
       "      <td>27431</td>\n",
       "      <td>5.0</td>\n",
       "      <td>849667827</td>\n",
       "    </tr>\n",
       "  </tbody>\n",
       "</table>\n",
       "</div>"
      ],
      "text/plain": [
       "   movieId             title                                       genres  \\\n",
       "0        1  Toy Story (1995)  Adventure|Animation|Children|Comedy|Fantasy   \n",
       "1        1  Toy Story (1995)  Adventure|Animation|Children|Comedy|Fantasy   \n",
       "2        1  Toy Story (1995)  Adventure|Animation|Children|Comedy|Fantasy   \n",
       "3        1  Toy Story (1995)  Adventure|Animation|Children|Comedy|Fantasy   \n",
       "4        1  Toy Story (1995)  Adventure|Animation|Children|Comedy|Fantasy   \n",
       "\n",
       "                                          title_cast       director  runtime  \\\n",
       "0  Tom Hanks|Tim Allen|Don Rickles|Jim Varney|Wal...  John Lasseter     81.0   \n",
       "1  Tom Hanks|Tim Allen|Don Rickles|Jim Varney|Wal...  John Lasseter     81.0   \n",
       "2  Tom Hanks|Tim Allen|Don Rickles|Jim Varney|Wal...  John Lasseter     81.0   \n",
       "3  Tom Hanks|Tim Allen|Don Rickles|Jim Varney|Wal...  John Lasseter     81.0   \n",
       "4  Tom Hanks|Tim Allen|Don Rickles|Jim Varney|Wal...  John Lasseter     81.0   \n",
       "\n",
       "        budget                     plot_keywords  userId  rating   timestamp  \n",
       "0  $30,000,000  toy|rivalry|cowboy|cgi animation  158849     5.0   994716786  \n",
       "1  $30,000,000  toy|rivalry|cowboy|cgi animation   97203     5.0   942683155  \n",
       "2  $30,000,000  toy|rivalry|cowboy|cgi animation  161871     3.0   833104576  \n",
       "3  $30,000,000  toy|rivalry|cowboy|cgi animation   45117     4.0  1442256969  \n",
       "4  $30,000,000  toy|rivalry|cowboy|cgi animation   27431     5.0   849667827  "
      ]
     },
     "execution_count": 18,
     "metadata": {},
     "output_type": "execute_result"
    }
   ],
   "source": [
    "df_final.head()"
   ]
  },
  {
   "cell_type": "code",
   "execution_count": 19,
   "id": "4544ee3c",
   "metadata": {},
   "outputs": [
    {
     "data": {
      "text/plain": [
       "(9633031, 11)"
      ]
     },
     "execution_count": 19,
     "metadata": {},
     "output_type": "execute_result"
    }
   ],
   "source": [
    "df_final.shape"
   ]
  },
  {
   "cell_type": "code",
   "execution_count": 20,
   "id": "32506b4e",
   "metadata": {},
   "outputs": [
    {
     "data": {
      "text/plain": [
       "movieId                0\n",
       "title                  0\n",
       "genres                 0\n",
       "title_cast       2604407\n",
       "director         2602688\n",
       "runtime          2653058\n",
       "budget           3152276\n",
       "plot_keywords    2610043\n",
       "userId                 0\n",
       "rating                 0\n",
       "timestamp              0\n",
       "dtype: int64"
      ]
     },
     "execution_count": 20,
     "metadata": {},
     "output_type": "execute_result"
    }
   ],
   "source": [
    "#Checking for missing values\n",
    "df_final.isna().sum()"
   ]
  },
  {
   "cell_type": "code",
   "execution_count": 21,
   "id": "652e2bb8",
   "metadata": {},
   "outputs": [
    {
     "data": {
      "text/plain": [
       "movieId            0.0%\n",
       "title              0.0%\n",
       "genres             0.0%\n",
       "title_cast       27.04%\n",
       "director         27.02%\n",
       "runtime          27.54%\n",
       "budget           32.72%\n",
       "plot_keywords    27.09%\n",
       "userId             0.0%\n",
       "rating             0.0%\n",
       "timestamp          0.0%\n",
       "dtype: object"
      ]
     },
     "execution_count": 21,
     "metadata": {},
     "output_type": "execute_result"
    }
   ],
   "source": [
    "#check null values\n",
    "round((df_final.isnull().sum()/df_final.shape[0])*100,2).astype(str)+ '%'\n"
   ]
  },
  {
   "cell_type": "code",
   "execution_count": 22,
   "id": "b1cda09e",
   "metadata": {},
   "outputs": [],
   "source": [
    "#Drop columns\n",
    "#df_final = df_final.drop(['title_cast','director','runtime','budget','plot_keywords'], axis=1)\n",
    "#df_final.head()\n",
    "#Qn. What about title_cast column since some movies can be recommended based on the actor"
   ]
  },
  {
   "cell_type": "code",
   "execution_count": 23,
   "id": "ec9b00dd",
   "metadata": {},
   "outputs": [
    {
     "data": {
      "text/plain": [
       "(9633031, 11)"
      ]
     },
     "execution_count": 23,
     "metadata": {},
     "output_type": "execute_result"
    }
   ],
   "source": [
    "df_final.shape"
   ]
  },
  {
   "cell_type": "code",
   "execution_count": null,
   "id": "d7e4b2e6",
   "metadata": {},
   "outputs": [],
   "source": [
    "df_final"
   ]
  },
  {
   "cell_type": "code",
   "execution_count": 12,
   "id": "88190af2",
   "metadata": {},
   "outputs": [
    {
     "data": {
      "text/html": [
       "<div>\n",
       "<style scoped>\n",
       "    .dataframe tbody tr th:only-of-type {\n",
       "        vertical-align: middle;\n",
       "    }\n",
       "\n",
       "    .dataframe tbody tr th {\n",
       "        vertical-align: top;\n",
       "    }\n",
       "\n",
       "    .dataframe thead th {\n",
       "        text-align: right;\n",
       "    }\n",
       "</style>\n",
       "<table border=\"1\" class=\"dataframe\">\n",
       "  <thead>\n",
       "    <tr style=\"text-align: right;\">\n",
       "      <th></th>\n",
       "      <th>userId</th>\n",
       "      <th>movieId</th>\n",
       "      <th>tag</th>\n",
       "      <th>timestamp</th>\n",
       "    </tr>\n",
       "  </thead>\n",
       "  <tbody>\n",
       "    <tr>\n",
       "      <th>0</th>\n",
       "      <td>3</td>\n",
       "      <td>260</td>\n",
       "      <td>classic</td>\n",
       "      <td>1439472355</td>\n",
       "    </tr>\n",
       "    <tr>\n",
       "      <th>1</th>\n",
       "      <td>3</td>\n",
       "      <td>260</td>\n",
       "      <td>sci-fi</td>\n",
       "      <td>1439472256</td>\n",
       "    </tr>\n",
       "    <tr>\n",
       "      <th>2</th>\n",
       "      <td>4</td>\n",
       "      <td>1732</td>\n",
       "      <td>dark comedy</td>\n",
       "      <td>1573943598</td>\n",
       "    </tr>\n",
       "    <tr>\n",
       "      <th>3</th>\n",
       "      <td>4</td>\n",
       "      <td>1732</td>\n",
       "      <td>great dialogue</td>\n",
       "      <td>1573943604</td>\n",
       "    </tr>\n",
       "    <tr>\n",
       "      <th>4</th>\n",
       "      <td>4</td>\n",
       "      <td>7569</td>\n",
       "      <td>so bad it's good</td>\n",
       "      <td>1573943455</td>\n",
       "    </tr>\n",
       "  </tbody>\n",
       "</table>\n",
       "</div>"
      ],
      "text/plain": [
       "   userId  movieId               tag   timestamp\n",
       "0       3      260           classic  1439472355\n",
       "1       3      260            sci-fi  1439472256\n",
       "2       4     1732       dark comedy  1573943598\n",
       "3       4     1732    great dialogue  1573943604\n",
       "4       4     7569  so bad it's good  1573943455"
      ]
     },
     "execution_count": 12,
     "metadata": {},
     "output_type": "execute_result"
    }
   ],
   "source": [
    "tag_df.head()"
   ]
  },
  {
   "cell_type": "code",
   "execution_count": null,
   "id": "7a1f6d14",
   "metadata": {},
   "outputs": [],
   "source": []
  },
  {
   "cell_type": "code",
   "execution_count": 13,
   "id": "9cb4a936",
   "metadata": {},
   "outputs": [
    {
     "data": {
      "text/html": [
       "<div>\n",
       "<style scoped>\n",
       "    .dataframe tbody tr th:only-of-type {\n",
       "        vertical-align: middle;\n",
       "    }\n",
       "\n",
       "    .dataframe tbody tr th {\n",
       "        vertical-align: top;\n",
       "    }\n",
       "\n",
       "    .dataframe thead th {\n",
       "        text-align: right;\n",
       "    }\n",
       "</style>\n",
       "<table border=\"1\" class=\"dataframe\">\n",
       "  <thead>\n",
       "    <tr style=\"text-align: right;\">\n",
       "      <th></th>\n",
       "      <th>movieId</th>\n",
       "      <th>imdbId</th>\n",
       "      <th>tmdbId</th>\n",
       "    </tr>\n",
       "  </thead>\n",
       "  <tbody>\n",
       "    <tr>\n",
       "      <th>0</th>\n",
       "      <td>1</td>\n",
       "      <td>114709</td>\n",
       "      <td>862.0</td>\n",
       "    </tr>\n",
       "    <tr>\n",
       "      <th>1</th>\n",
       "      <td>2</td>\n",
       "      <td>113497</td>\n",
       "      <td>8844.0</td>\n",
       "    </tr>\n",
       "    <tr>\n",
       "      <th>2</th>\n",
       "      <td>3</td>\n",
       "      <td>113228</td>\n",
       "      <td>15602.0</td>\n",
       "    </tr>\n",
       "    <tr>\n",
       "      <th>3</th>\n",
       "      <td>4</td>\n",
       "      <td>114885</td>\n",
       "      <td>31357.0</td>\n",
       "    </tr>\n",
       "    <tr>\n",
       "      <th>4</th>\n",
       "      <td>5</td>\n",
       "      <td>113041</td>\n",
       "      <td>11862.0</td>\n",
       "    </tr>\n",
       "  </tbody>\n",
       "</table>\n",
       "</div>"
      ],
      "text/plain": [
       "   movieId  imdbId   tmdbId\n",
       "0        1  114709    862.0\n",
       "1        2  113497   8844.0\n",
       "2        3  113228  15602.0\n",
       "3        4  114885  31357.0\n",
       "4        5  113041  11862.0"
      ]
     },
     "execution_count": 13,
     "metadata": {},
     "output_type": "execute_result"
    }
   ],
   "source": [
    "link_df.head()"
   ]
  },
  {
   "cell_type": "code",
   "execution_count": 14,
   "id": "b3c6a5dd",
   "metadata": {},
   "outputs": [
    {
     "data": {
      "text/html": [
       "<div>\n",
       "<style scoped>\n",
       "    .dataframe tbody tr th:only-of-type {\n",
       "        vertical-align: middle;\n",
       "    }\n",
       "\n",
       "    .dataframe tbody tr th {\n",
       "        vertical-align: top;\n",
       "    }\n",
       "\n",
       "    .dataframe thead th {\n",
       "        text-align: right;\n",
       "    }\n",
       "</style>\n",
       "<table border=\"1\" class=\"dataframe\">\n",
       "  <thead>\n",
       "    <tr style=\"text-align: right;\">\n",
       "      <th></th>\n",
       "      <th>movieId</th>\n",
       "      <th>tagId</th>\n",
       "      <th>relevance</th>\n",
       "    </tr>\n",
       "  </thead>\n",
       "  <tbody>\n",
       "    <tr>\n",
       "      <th>0</th>\n",
       "      <td>1</td>\n",
       "      <td>1</td>\n",
       "      <td>0.02875</td>\n",
       "    </tr>\n",
       "    <tr>\n",
       "      <th>1</th>\n",
       "      <td>1</td>\n",
       "      <td>2</td>\n",
       "      <td>0.02375</td>\n",
       "    </tr>\n",
       "    <tr>\n",
       "      <th>2</th>\n",
       "      <td>1</td>\n",
       "      <td>3</td>\n",
       "      <td>0.06250</td>\n",
       "    </tr>\n",
       "    <tr>\n",
       "      <th>3</th>\n",
       "      <td>1</td>\n",
       "      <td>4</td>\n",
       "      <td>0.07575</td>\n",
       "    </tr>\n",
       "    <tr>\n",
       "      <th>4</th>\n",
       "      <td>1</td>\n",
       "      <td>5</td>\n",
       "      <td>0.14075</td>\n",
       "    </tr>\n",
       "  </tbody>\n",
       "</table>\n",
       "</div>"
      ],
      "text/plain": [
       "   movieId  tagId  relevance\n",
       "0        1      1    0.02875\n",
       "1        1      2    0.02375\n",
       "2        1      3    0.06250\n",
       "3        1      4    0.07575\n",
       "4        1      5    0.14075"
      ]
     },
     "execution_count": 14,
     "metadata": {},
     "output_type": "execute_result"
    }
   ],
   "source": [
    "gen_df.head()"
   ]
  },
  {
   "cell_type": "code",
   "execution_count": 15,
   "id": "50d57dbd",
   "metadata": {},
   "outputs": [
    {
     "data": {
      "text/html": [
       "<div>\n",
       "<style scoped>\n",
       "    .dataframe tbody tr th:only-of-type {\n",
       "        vertical-align: middle;\n",
       "    }\n",
       "\n",
       "    .dataframe tbody tr th {\n",
       "        vertical-align: top;\n",
       "    }\n",
       "\n",
       "    .dataframe thead th {\n",
       "        text-align: right;\n",
       "    }\n",
       "</style>\n",
       "<table border=\"1\" class=\"dataframe\">\n",
       "  <thead>\n",
       "    <tr style=\"text-align: right;\">\n",
       "      <th></th>\n",
       "      <th>tagId</th>\n",
       "      <th>tag</th>\n",
       "    </tr>\n",
       "  </thead>\n",
       "  <tbody>\n",
       "    <tr>\n",
       "      <th>0</th>\n",
       "      <td>1</td>\n",
       "      <td>007</td>\n",
       "    </tr>\n",
       "    <tr>\n",
       "      <th>1</th>\n",
       "      <td>2</td>\n",
       "      <td>007 (series)</td>\n",
       "    </tr>\n",
       "    <tr>\n",
       "      <th>2</th>\n",
       "      <td>3</td>\n",
       "      <td>18th century</td>\n",
       "    </tr>\n",
       "    <tr>\n",
       "      <th>3</th>\n",
       "      <td>4</td>\n",
       "      <td>1920s</td>\n",
       "    </tr>\n",
       "    <tr>\n",
       "      <th>4</th>\n",
       "      <td>5</td>\n",
       "      <td>1930s</td>\n",
       "    </tr>\n",
       "  </tbody>\n",
       "</table>\n",
       "</div>"
      ],
      "text/plain": [
       "   tagId           tag\n",
       "0      1           007\n",
       "1      2  007 (series)\n",
       "2      3  18th century\n",
       "3      4         1920s\n",
       "4      5         1930s"
      ]
     },
     "execution_count": 15,
     "metadata": {},
     "output_type": "execute_result"
    }
   ],
   "source": [
    "gentag_df.head()"
   ]
  },
  {
   "cell_type": "code",
   "execution_count": 24,
   "id": "36f7ae7a",
   "metadata": {},
   "outputs": [],
   "source": [
    "CBA_df = df_final[['title','genres','title_cast','director','plot_keywords']]\n",
    "CBA_df= CBA_df.drop_duplicates(subset=[\"title\"],keep = 'first')\n",
    "new_df = CBA_df[:2000] #Dealing with big data, take a subset of the data for easy processing"
   ]
  },
  {
   "cell_type": "code",
   "execution_count": 25,
   "id": "8dce18c2",
   "metadata": {},
   "outputs": [
    {
     "data": {
      "text/html": [
       "<div>\n",
       "<style scoped>\n",
       "    .dataframe tbody tr th:only-of-type {\n",
       "        vertical-align: middle;\n",
       "    }\n",
       "\n",
       "    .dataframe tbody tr th {\n",
       "        vertical-align: top;\n",
       "    }\n",
       "\n",
       "    .dataframe thead th {\n",
       "        text-align: right;\n",
       "    }\n",
       "</style>\n",
       "<table border=\"1\" class=\"dataframe\">\n",
       "  <thead>\n",
       "    <tr style=\"text-align: right;\">\n",
       "      <th></th>\n",
       "      <th>title</th>\n",
       "      <th>genres</th>\n",
       "      <th>title_cast</th>\n",
       "      <th>director</th>\n",
       "      <th>plot_keywords</th>\n",
       "    </tr>\n",
       "  </thead>\n",
       "  <tbody>\n",
       "    <tr>\n",
       "      <th>0</th>\n",
       "      <td>Toy Story (1995)</td>\n",
       "      <td>Adventure|Animation|Children|Comedy|Fantasy</td>\n",
       "      <td>Tom Hanks|Tim Allen|Don Rickles|Jim Varney|Wal...</td>\n",
       "      <td>John Lasseter</td>\n",
       "      <td>toy|rivalry|cowboy|cgi animation</td>\n",
       "    </tr>\n",
       "    <tr>\n",
       "      <th>23062</th>\n",
       "      <td>Jumanji (1995)</td>\n",
       "      <td>Adventure|Children|Fantasy</td>\n",
       "      <td>Robin Williams|Jonathan Hyde|Kirsten Dunst|Bra...</td>\n",
       "      <td>Jonathan Hensleigh</td>\n",
       "      <td>board game|adventurer|fight|game</td>\n",
       "    </tr>\n",
       "    <tr>\n",
       "      <th>32716</th>\n",
       "      <td>Grumpier Old Men (1995)</td>\n",
       "      <td>Comedy|Romance</td>\n",
       "      <td>Walter Matthau|Jack Lemmon|Sophia Loren|Ann-Ma...</td>\n",
       "      <td>Mark Steven Johnson</td>\n",
       "      <td>boat|lake|neighbor|rivalry</td>\n",
       "    </tr>\n",
       "    <tr>\n",
       "      <th>37443</th>\n",
       "      <td>Waiting to Exhale (1995)</td>\n",
       "      <td>Comedy|Drama|Romance</td>\n",
       "      <td>Whitney Houston|Angela Bassett|Loretta Devine|...</td>\n",
       "      <td>Terry McMillan</td>\n",
       "      <td>black american|husband wife relationship|betra...</td>\n",
       "    </tr>\n",
       "    <tr>\n",
       "      <th>38411</th>\n",
       "      <td>Father of the Bride Part II (1995)</td>\n",
       "      <td>Comedy</td>\n",
       "      <td>Steve Martin|Diane Keaton|Martin Short|Kimberl...</td>\n",
       "      <td>Albert Hackett</td>\n",
       "      <td>fatherhood|doberman|dog|mansion</td>\n",
       "    </tr>\n",
       "  </tbody>\n",
       "</table>\n",
       "</div>"
      ],
      "text/plain": [
       "                                    title  \\\n",
       "0                        Toy Story (1995)   \n",
       "23062                      Jumanji (1995)   \n",
       "32716             Grumpier Old Men (1995)   \n",
       "37443            Waiting to Exhale (1995)   \n",
       "38411  Father of the Bride Part II (1995)   \n",
       "\n",
       "                                            genres  \\\n",
       "0      Adventure|Animation|Children|Comedy|Fantasy   \n",
       "23062                   Adventure|Children|Fantasy   \n",
       "32716                               Comedy|Romance   \n",
       "37443                         Comedy|Drama|Romance   \n",
       "38411                                       Comedy   \n",
       "\n",
       "                                              title_cast             director  \\\n",
       "0      Tom Hanks|Tim Allen|Don Rickles|Jim Varney|Wal...        John Lasseter   \n",
       "23062  Robin Williams|Jonathan Hyde|Kirsten Dunst|Bra...   Jonathan Hensleigh   \n",
       "32716  Walter Matthau|Jack Lemmon|Sophia Loren|Ann-Ma...  Mark Steven Johnson   \n",
       "37443  Whitney Houston|Angela Bassett|Loretta Devine|...       Terry McMillan   \n",
       "38411  Steve Martin|Diane Keaton|Martin Short|Kimberl...       Albert Hackett   \n",
       "\n",
       "                                           plot_keywords  \n",
       "0                       toy|rivalry|cowboy|cgi animation  \n",
       "23062                   board game|adventurer|fight|game  \n",
       "32716                         boat|lake|neighbor|rivalry  \n",
       "37443  black american|husband wife relationship|betra...  \n",
       "38411                    fatherhood|doberman|dog|mansion  "
      ]
     },
     "execution_count": 25,
     "metadata": {},
     "output_type": "execute_result"
    }
   ],
   "source": [
    "new_df.head()"
   ]
  },
  {
   "cell_type": "code",
   "execution_count": null,
   "id": "a02b2ca4",
   "metadata": {},
   "outputs": [],
   "source": []
  },
  {
   "cell_type": "markdown",
   "id": "e71feee4",
   "metadata": {},
   "source": [
    "### Data pre-processing"
   ]
  },
  {
   "cell_type": "code",
   "execution_count": 26,
   "id": "eea3dcb6",
   "metadata": {},
   "outputs": [],
   "source": [
    "import re"
   ]
  },
  {
   "cell_type": "code",
   "execution_count": 27,
   "id": "dc6de27b",
   "metadata": {},
   "outputs": [],
   "source": [
    "#Removing the pipes (|)\n",
    "def preprocess_genre(genre):\n",
    "    \"This function removes concatenation\"\n",
    "    genre = re.sub(r'[\\-]', '_', genre)\n",
    "    genre = re.sub(r'[\\(\\)]', '', genre)\n",
    "    genre = re.sub(r'no genres listed', 'no_genres_listed', genre)\n",
    "    genre = ' '.join([word for word in genre.split('|')])\n",
    "    return genre"
   ]
  },
  {
   "cell_type": "code",
   "execution_count": 28,
   "id": "83a6e187",
   "metadata": {},
   "outputs": [],
   "source": [
    "new_df['genres'] = new_df['genres'].apply(preprocess_genre)"
   ]
  },
  {
   "cell_type": "code",
   "execution_count": 29,
   "id": "554a7406",
   "metadata": {},
   "outputs": [
    {
     "data": {
      "text/html": [
       "<div>\n",
       "<style scoped>\n",
       "    .dataframe tbody tr th:only-of-type {\n",
       "        vertical-align: middle;\n",
       "    }\n",
       "\n",
       "    .dataframe tbody tr th {\n",
       "        vertical-align: top;\n",
       "    }\n",
       "\n",
       "    .dataframe thead th {\n",
       "        text-align: right;\n",
       "    }\n",
       "</style>\n",
       "<table border=\"1\" class=\"dataframe\">\n",
       "  <thead>\n",
       "    <tr style=\"text-align: right;\">\n",
       "      <th></th>\n",
       "      <th>title</th>\n",
       "      <th>genres</th>\n",
       "      <th>title_cast</th>\n",
       "      <th>director</th>\n",
       "      <th>plot_keywords</th>\n",
       "    </tr>\n",
       "  </thead>\n",
       "  <tbody>\n",
       "    <tr>\n",
       "      <th>0</th>\n",
       "      <td>Toy Story (1995)</td>\n",
       "      <td>Adventure Animation Children Comedy Fantasy</td>\n",
       "      <td>Tom Hanks|Tim Allen|Don Rickles|Jim Varney|Wal...</td>\n",
       "      <td>John Lasseter</td>\n",
       "      <td>toy|rivalry|cowboy|cgi animation</td>\n",
       "    </tr>\n",
       "    <tr>\n",
       "      <th>23062</th>\n",
       "      <td>Jumanji (1995)</td>\n",
       "      <td>Adventure Children Fantasy</td>\n",
       "      <td>Robin Williams|Jonathan Hyde|Kirsten Dunst|Bra...</td>\n",
       "      <td>Jonathan Hensleigh</td>\n",
       "      <td>board game|adventurer|fight|game</td>\n",
       "    </tr>\n",
       "    <tr>\n",
       "      <th>32716</th>\n",
       "      <td>Grumpier Old Men (1995)</td>\n",
       "      <td>Comedy Romance</td>\n",
       "      <td>Walter Matthau|Jack Lemmon|Sophia Loren|Ann-Ma...</td>\n",
       "      <td>Mark Steven Johnson</td>\n",
       "      <td>boat|lake|neighbor|rivalry</td>\n",
       "    </tr>\n",
       "    <tr>\n",
       "      <th>37443</th>\n",
       "      <td>Waiting to Exhale (1995)</td>\n",
       "      <td>Comedy Drama Romance</td>\n",
       "      <td>Whitney Houston|Angela Bassett|Loretta Devine|...</td>\n",
       "      <td>Terry McMillan</td>\n",
       "      <td>black american|husband wife relationship|betra...</td>\n",
       "    </tr>\n",
       "    <tr>\n",
       "      <th>38411</th>\n",
       "      <td>Father of the Bride Part II (1995)</td>\n",
       "      <td>Comedy</td>\n",
       "      <td>Steve Martin|Diane Keaton|Martin Short|Kimberl...</td>\n",
       "      <td>Albert Hackett</td>\n",
       "      <td>fatherhood|doberman|dog|mansion</td>\n",
       "    </tr>\n",
       "  </tbody>\n",
       "</table>\n",
       "</div>"
      ],
      "text/plain": [
       "                                    title  \\\n",
       "0                        Toy Story (1995)   \n",
       "23062                      Jumanji (1995)   \n",
       "32716             Grumpier Old Men (1995)   \n",
       "37443            Waiting to Exhale (1995)   \n",
       "38411  Father of the Bride Part II (1995)   \n",
       "\n",
       "                                            genres  \\\n",
       "0      Adventure Animation Children Comedy Fantasy   \n",
       "23062                   Adventure Children Fantasy   \n",
       "32716                               Comedy Romance   \n",
       "37443                         Comedy Drama Romance   \n",
       "38411                                       Comedy   \n",
       "\n",
       "                                              title_cast             director  \\\n",
       "0      Tom Hanks|Tim Allen|Don Rickles|Jim Varney|Wal...        John Lasseter   \n",
       "23062  Robin Williams|Jonathan Hyde|Kirsten Dunst|Bra...   Jonathan Hensleigh   \n",
       "32716  Walter Matthau|Jack Lemmon|Sophia Loren|Ann-Ma...  Mark Steven Johnson   \n",
       "37443  Whitney Houston|Angela Bassett|Loretta Devine|...       Terry McMillan   \n",
       "38411  Steve Martin|Diane Keaton|Martin Short|Kimberl...       Albert Hackett   \n",
       "\n",
       "                                           plot_keywords  \n",
       "0                       toy|rivalry|cowboy|cgi animation  \n",
       "23062                   board game|adventurer|fight|game  \n",
       "32716                         boat|lake|neighbor|rivalry  \n",
       "37443  black american|husband wife relationship|betra...  \n",
       "38411                    fatherhood|doberman|dog|mansion  "
      ]
     },
     "execution_count": 29,
     "metadata": {},
     "output_type": "execute_result"
    }
   ],
   "source": [
    "new_df.head()"
   ]
  },
  {
   "cell_type": "code",
   "execution_count": 30,
   "id": "5cf7a7d0",
   "metadata": {},
   "outputs": [],
   "source": [
    "def preprocess_titlecast(title_cast):\n",
    "    title_cast = re.sub(r'\\ ', '_', str(title_cast))\n",
    "    title_cast = ' '.join([word for word in title_cast.split('|')])\n",
    "    return title_cast"
   ]
  },
  {
   "cell_type": "code",
   "execution_count": 31,
   "id": "b320e403",
   "metadata": {},
   "outputs": [],
   "source": [
    "new_df['title_cast'] = new_df['title_cast'].apply(preprocess_titlecast)"
   ]
  },
  {
   "cell_type": "code",
   "execution_count": 32,
   "id": "dc46fc15",
   "metadata": {},
   "outputs": [
    {
     "data": {
      "text/html": [
       "<div>\n",
       "<style scoped>\n",
       "    .dataframe tbody tr th:only-of-type {\n",
       "        vertical-align: middle;\n",
       "    }\n",
       "\n",
       "    .dataframe tbody tr th {\n",
       "        vertical-align: top;\n",
       "    }\n",
       "\n",
       "    .dataframe thead th {\n",
       "        text-align: right;\n",
       "    }\n",
       "</style>\n",
       "<table border=\"1\" class=\"dataframe\">\n",
       "  <thead>\n",
       "    <tr style=\"text-align: right;\">\n",
       "      <th></th>\n",
       "      <th>title</th>\n",
       "      <th>genres</th>\n",
       "      <th>title_cast</th>\n",
       "      <th>director</th>\n",
       "      <th>plot_keywords</th>\n",
       "    </tr>\n",
       "  </thead>\n",
       "  <tbody>\n",
       "    <tr>\n",
       "      <th>0</th>\n",
       "      <td>Toy Story (1995)</td>\n",
       "      <td>Adventure Animation Children Comedy Fantasy</td>\n",
       "      <td>Tom_Hanks Tim_Allen Don_Rickles Jim_Varney Wal...</td>\n",
       "      <td>John Lasseter</td>\n",
       "      <td>toy|rivalry|cowboy|cgi animation</td>\n",
       "    </tr>\n",
       "    <tr>\n",
       "      <th>23062</th>\n",
       "      <td>Jumanji (1995)</td>\n",
       "      <td>Adventure Children Fantasy</td>\n",
       "      <td>Robin_Williams Jonathan_Hyde Kirsten_Dunst Bra...</td>\n",
       "      <td>Jonathan Hensleigh</td>\n",
       "      <td>board game|adventurer|fight|game</td>\n",
       "    </tr>\n",
       "    <tr>\n",
       "      <th>32716</th>\n",
       "      <td>Grumpier Old Men (1995)</td>\n",
       "      <td>Comedy Romance</td>\n",
       "      <td>Walter_Matthau Jack_Lemmon Sophia_Loren Ann-Ma...</td>\n",
       "      <td>Mark Steven Johnson</td>\n",
       "      <td>boat|lake|neighbor|rivalry</td>\n",
       "    </tr>\n",
       "    <tr>\n",
       "      <th>37443</th>\n",
       "      <td>Waiting to Exhale (1995)</td>\n",
       "      <td>Comedy Drama Romance</td>\n",
       "      <td>Whitney_Houston Angela_Bassett Loretta_Devine ...</td>\n",
       "      <td>Terry McMillan</td>\n",
       "      <td>black american|husband wife relationship|betra...</td>\n",
       "    </tr>\n",
       "    <tr>\n",
       "      <th>38411</th>\n",
       "      <td>Father of the Bride Part II (1995)</td>\n",
       "      <td>Comedy</td>\n",
       "      <td>Steve_Martin Diane_Keaton Martin_Short Kimberl...</td>\n",
       "      <td>Albert Hackett</td>\n",
       "      <td>fatherhood|doberman|dog|mansion</td>\n",
       "    </tr>\n",
       "  </tbody>\n",
       "</table>\n",
       "</div>"
      ],
      "text/plain": [
       "                                    title  \\\n",
       "0                        Toy Story (1995)   \n",
       "23062                      Jumanji (1995)   \n",
       "32716             Grumpier Old Men (1995)   \n",
       "37443            Waiting to Exhale (1995)   \n",
       "38411  Father of the Bride Part II (1995)   \n",
       "\n",
       "                                            genres  \\\n",
       "0      Adventure Animation Children Comedy Fantasy   \n",
       "23062                   Adventure Children Fantasy   \n",
       "32716                               Comedy Romance   \n",
       "37443                         Comedy Drama Romance   \n",
       "38411                                       Comedy   \n",
       "\n",
       "                                              title_cast             director  \\\n",
       "0      Tom_Hanks Tim_Allen Don_Rickles Jim_Varney Wal...        John Lasseter   \n",
       "23062  Robin_Williams Jonathan_Hyde Kirsten_Dunst Bra...   Jonathan Hensleigh   \n",
       "32716  Walter_Matthau Jack_Lemmon Sophia_Loren Ann-Ma...  Mark Steven Johnson   \n",
       "37443  Whitney_Houston Angela_Bassett Loretta_Devine ...       Terry McMillan   \n",
       "38411  Steve_Martin Diane_Keaton Martin_Short Kimberl...       Albert Hackett   \n",
       "\n",
       "                                           plot_keywords  \n",
       "0                       toy|rivalry|cowboy|cgi animation  \n",
       "23062                   board game|adventurer|fight|game  \n",
       "32716                         boat|lake|neighbor|rivalry  \n",
       "37443  black american|husband wife relationship|betra...  \n",
       "38411                    fatherhood|doberman|dog|mansion  "
      ]
     },
     "execution_count": 32,
     "metadata": {},
     "output_type": "execute_result"
    }
   ],
   "source": [
    "new_df.head()"
   ]
  },
  {
   "cell_type": "code",
   "execution_count": 33,
   "id": "1cc770fa",
   "metadata": {},
   "outputs": [],
   "source": [
    "def preprocess_director(director):\n",
    "    director = re.sub(r'\\ ', '_', str(director))\n",
    "    return director\n"
   ]
  },
  {
   "cell_type": "code",
   "execution_count": 34,
   "id": "2264d42b",
   "metadata": {},
   "outputs": [],
   "source": [
    "new_df['director'] = new_df['director'].apply(preprocess_director)"
   ]
  },
  {
   "cell_type": "code",
   "execution_count": 35,
   "id": "48a492b6",
   "metadata": {},
   "outputs": [
    {
     "data": {
      "text/html": [
       "<div>\n",
       "<style scoped>\n",
       "    .dataframe tbody tr th:only-of-type {\n",
       "        vertical-align: middle;\n",
       "    }\n",
       "\n",
       "    .dataframe tbody tr th {\n",
       "        vertical-align: top;\n",
       "    }\n",
       "\n",
       "    .dataframe thead th {\n",
       "        text-align: right;\n",
       "    }\n",
       "</style>\n",
       "<table border=\"1\" class=\"dataframe\">\n",
       "  <thead>\n",
       "    <tr style=\"text-align: right;\">\n",
       "      <th></th>\n",
       "      <th>title</th>\n",
       "      <th>genres</th>\n",
       "      <th>title_cast</th>\n",
       "      <th>director</th>\n",
       "      <th>plot_keywords</th>\n",
       "    </tr>\n",
       "  </thead>\n",
       "  <tbody>\n",
       "    <tr>\n",
       "      <th>0</th>\n",
       "      <td>Toy Story (1995)</td>\n",
       "      <td>Adventure Animation Children Comedy Fantasy</td>\n",
       "      <td>Tom_Hanks Tim_Allen Don_Rickles Jim_Varney Wal...</td>\n",
       "      <td>John_Lasseter</td>\n",
       "      <td>toy|rivalry|cowboy|cgi animation</td>\n",
       "    </tr>\n",
       "    <tr>\n",
       "      <th>23062</th>\n",
       "      <td>Jumanji (1995)</td>\n",
       "      <td>Adventure Children Fantasy</td>\n",
       "      <td>Robin_Williams Jonathan_Hyde Kirsten_Dunst Bra...</td>\n",
       "      <td>Jonathan_Hensleigh</td>\n",
       "      <td>board game|adventurer|fight|game</td>\n",
       "    </tr>\n",
       "    <tr>\n",
       "      <th>32716</th>\n",
       "      <td>Grumpier Old Men (1995)</td>\n",
       "      <td>Comedy Romance</td>\n",
       "      <td>Walter_Matthau Jack_Lemmon Sophia_Loren Ann-Ma...</td>\n",
       "      <td>Mark_Steven_Johnson</td>\n",
       "      <td>boat|lake|neighbor|rivalry</td>\n",
       "    </tr>\n",
       "    <tr>\n",
       "      <th>37443</th>\n",
       "      <td>Waiting to Exhale (1995)</td>\n",
       "      <td>Comedy Drama Romance</td>\n",
       "      <td>Whitney_Houston Angela_Bassett Loretta_Devine ...</td>\n",
       "      <td>Terry_McMillan</td>\n",
       "      <td>black american|husband wife relationship|betra...</td>\n",
       "    </tr>\n",
       "    <tr>\n",
       "      <th>38411</th>\n",
       "      <td>Father of the Bride Part II (1995)</td>\n",
       "      <td>Comedy</td>\n",
       "      <td>Steve_Martin Diane_Keaton Martin_Short Kimberl...</td>\n",
       "      <td>Albert_Hackett</td>\n",
       "      <td>fatherhood|doberman|dog|mansion</td>\n",
       "    </tr>\n",
       "  </tbody>\n",
       "</table>\n",
       "</div>"
      ],
      "text/plain": [
       "                                    title  \\\n",
       "0                        Toy Story (1995)   \n",
       "23062                      Jumanji (1995)   \n",
       "32716             Grumpier Old Men (1995)   \n",
       "37443            Waiting to Exhale (1995)   \n",
       "38411  Father of the Bride Part II (1995)   \n",
       "\n",
       "                                            genres  \\\n",
       "0      Adventure Animation Children Comedy Fantasy   \n",
       "23062                   Adventure Children Fantasy   \n",
       "32716                               Comedy Romance   \n",
       "37443                         Comedy Drama Romance   \n",
       "38411                                       Comedy   \n",
       "\n",
       "                                              title_cast             director  \\\n",
       "0      Tom_Hanks Tim_Allen Don_Rickles Jim_Varney Wal...        John_Lasseter   \n",
       "23062  Robin_Williams Jonathan_Hyde Kirsten_Dunst Bra...   Jonathan_Hensleigh   \n",
       "32716  Walter_Matthau Jack_Lemmon Sophia_Loren Ann-Ma...  Mark_Steven_Johnson   \n",
       "37443  Whitney_Houston Angela_Bassett Loretta_Devine ...       Terry_McMillan   \n",
       "38411  Steve_Martin Diane_Keaton Martin_Short Kimberl...       Albert_Hackett   \n",
       "\n",
       "                                           plot_keywords  \n",
       "0                       toy|rivalry|cowboy|cgi animation  \n",
       "23062                   board game|adventurer|fight|game  \n",
       "32716                         boat|lake|neighbor|rivalry  \n",
       "37443  black american|husband wife relationship|betra...  \n",
       "38411                    fatherhood|doberman|dog|mansion  "
      ]
     },
     "execution_count": 35,
     "metadata": {},
     "output_type": "execute_result"
    }
   ],
   "source": [
    "new_df.head()"
   ]
  },
  {
   "cell_type": "code",
   "execution_count": 36,
   "id": "3b8c3400",
   "metadata": {},
   "outputs": [],
   "source": [
    "def preprocess_keywords(keywords):\n",
    "    keywords = ' '.join([word for word in str(keywords).split('|')])\n",
    "    return keywords\n"
   ]
  },
  {
   "cell_type": "code",
   "execution_count": 37,
   "id": "b772ead4",
   "metadata": {},
   "outputs": [],
   "source": [
    "new_df['plot_keywords'] = new_df['plot_keywords'].apply(preprocess_keywords)"
   ]
  },
  {
   "cell_type": "code",
   "execution_count": 38,
   "id": "bd8e4a66",
   "metadata": {},
   "outputs": [],
   "source": [
    "new1_df = (pd.Series(new_df[['genres', 'title_cast','director', 'plot_keywords']]\n",
    "                      .fillna('')\n",
    "                      .values.tolist()).str.join(' '))"
   ]
  },
  {
   "cell_type": "code",
   "execution_count": 39,
   "id": "a7b2d319",
   "metadata": {},
   "outputs": [
    {
     "data": {
      "text/plain": [
       "0    Adventure Animation Children Comedy Fantasy To...\n",
       "1    Adventure Children Fantasy Robin_Williams Jona...\n",
       "2    Comedy Romance Walter_Matthau Jack_Lemmon Soph...\n",
       "3    Comedy Drama Romance Whitney_Houston Angela_Ba...\n",
       "4    Comedy Steve_Martin Diane_Keaton Martin_Short ...\n",
       "dtype: object"
      ]
     },
     "execution_count": 39,
     "metadata": {},
     "output_type": "execute_result"
    }
   ],
   "source": [
    "new1_df.head()"
   ]
  },
  {
   "cell_type": "code",
   "execution_count": null,
   "id": "f4152453",
   "metadata": {},
   "outputs": [],
   "source": []
  },
  {
   "cell_type": "code",
   "execution_count": null,
   "id": "66967807",
   "metadata": {},
   "outputs": [],
   "source": []
  },
  {
   "cell_type": "code",
   "execution_count": 40,
   "id": "488386a8",
   "metadata": {},
   "outputs": [
    {
     "name": "stderr",
     "output_type": "stream",
     "text": [
      "COMET INFO: ---------------------------\n",
      "COMET INFO: Comet.ml Experiment Summary\n",
      "COMET INFO: ---------------------------\n",
      "COMET INFO:   Data:\n",
      "COMET INFO:     display_summary_level : 1\n",
      "COMET INFO:     url                   : https://www.comet.ml/skchanny/recommender-systems-predict/6bdd89bcfec64f2e8068b92dc9db46a8\n",
      "COMET INFO:   Uploads:\n",
      "COMET INFO:     environment details : 1\n",
      "COMET INFO:     filename            : 1\n",
      "COMET INFO:     installed packages  : 1\n",
      "COMET INFO:     notebook            : 1\n",
      "COMET INFO:     source_code         : 1\n",
      "COMET INFO: ---------------------------\n",
      "COMET INFO: Uploading metrics, params, and assets to Comet before program termination (may take several seconds)\n",
      "COMET INFO: The Python SDK has 3600 seconds to finish before aborting...\n",
      "COMET INFO: Waiting for completion of the file uploads (may take several seconds)\n",
      "COMET INFO: The Python SDK has 10800 seconds to finish before aborting...\n",
      "COMET INFO: Still uploading 2 file(s), remaining 28.29 KB/28.29 KB\n"
     ]
    }
   ],
   "source": [
    "experiment.end()"
   ]
  },
  {
   "cell_type": "code",
   "execution_count": null,
   "id": "e0fbf03c",
   "metadata": {},
   "outputs": [],
   "source": []
  },
  {
   "cell_type": "code",
   "execution_count": null,
   "id": "c9b7d9dc",
   "metadata": {},
   "outputs": [],
   "source": []
  }
 ],
 "metadata": {
  "kernelspec": {
   "display_name": "Python 3 (ipykernel)",
   "language": "python",
   "name": "python3"
  },
  "language_info": {
   "codemirror_mode": {
    "name": "ipython",
    "version": 3
   },
   "file_extension": ".py",
   "mimetype": "text/x-python",
   "name": "python",
   "nbconvert_exporter": "python",
   "pygments_lexer": "ipython3",
   "version": "3.9.7"
  }
 },
 "nbformat": 4,
 "nbformat_minor": 5
}
